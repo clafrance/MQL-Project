{
 "cells": [
  {
   "cell_type": "markdown",
   "metadata": {},
   "source": [
    "## Step 2, Clean Data, Export to csv file\n",
    "* Read data and create dataframe from csv file saved from Step1\n",
    "* Remove columns that are not needed\n",
    "* Clean data by replace terms\n",
    "* Export the result to csv file, main_customers.csv, under data folder"
   ]
  },
  {
   "cell_type": "code",
   "execution_count": 1,
   "metadata": {},
   "outputs": [],
   "source": [
    "# import all the dependencies \n",
    "import requests\n",
    "import csv\n",
    "import json\n",
    "import pandas as pd\n",
    "import requests, json\n",
    "import re\n",
    "import configparser\n",
    "import warnings\n",
    "warnings.filterwarnings('ignore')"
   ]
  },
  {
   "cell_type": "code",
   "execution_count": 2,
   "metadata": {},
   "outputs": [
    {
     "data": {
      "text/plain": [
       "['config.cfg']"
      ]
     },
     "execution_count": 2,
     "metadata": {},
     "output_type": "execute_result"
    }
   ],
   "source": [
    "# Define all variables \n",
    "configFile = \"config.cfg\"\n",
    "config = configparser.ConfigParser()\n",
    "config.read(configFile)"
   ]
  },
  {
   "cell_type": "code",
   "execution_count": 3,
   "metadata": {},
   "outputs": [
    {
     "name": "stdout",
     "output_type": "stream",
     "text": [
      "Reading all the combined data , may take a few minutes\n",
      "Shape of exports read from CSV : (753494, 35)\n"
     ]
    },
    {
     "data": {
      "text/plain": [
       "Index(['Unnamed: 0', 'EventModDead', 'EventModError', 'EventModFrustrated',\n",
       "       'EventStart', 'EventTargetSelectorTok', 'EventTargetText', 'EventType',\n",
       "       'IndvId', 'PageActiveDuration', 'PageAgent', 'PageBrowser',\n",
       "       'PageDevice', 'PageDuration', 'PageId', 'PageIp', 'PageLatLong',\n",
       "       'PageNumErrors', 'PageNumInfos', 'PageNumWarnings',\n",
       "       'PageOperatingSystem', 'PageRefererUrl', 'PageUrl', 'SessionId',\n",
       "       'UserAppKey', 'UserDisplayName', 'UserEmail', 'UserId',\n",
       "       'user_anonymousId_str', 'user_firstName_str', 'user_lastName_str',\n",
       "       'user_serviceName_str', 'user_userHash_str', 'user_userId_str',\n",
       "       'user_username_str'],\n",
       "      dtype='object')"
      ]
     },
     "execution_count": 3,
     "metadata": {},
     "output_type": "execute_result"
    }
   ],
   "source": [
    "print(\"Reading all the combined data , may take a few minutes\")\n",
    "customers_df = pd.read_csv(\"data/combined_data.csv\", low_memory=False)\n",
    "print('Shape of exports read from CSV : {}'.format(customers_df.shape))\n",
    "customers_df.columns"
   ]
  },
  {
   "cell_type": "code",
   "execution_count": 4,
   "metadata": {},
   "outputs": [
    {
     "name": "stdout",
     "output_type": "stream",
     "text": [
      "Size of data before dropping servcies (753494, 35)\n",
      "Size of data after  dropping servcies (711157, 35) \n"
     ]
    }
   ],
   "source": [
    "# Dropping rows with extra services we don't need\n",
    "print(\"Size of data before dropping servcies {}\".format(customers_df.shape))\n",
    "service_picked= ['LOG_INTELLIGENCE','CloudAssembly','SDK']\n",
    "customers_df = customers_df[customers_df.user_serviceName_str.isin(service_picked)]\n",
    "print(\"Size of data after  dropping servcies {} \".format(customers_df.shape))"
   ]
  },
  {
   "cell_type": "code",
   "execution_count": 5,
   "metadata": {},
   "outputs": [
    {
     "name": "stdout",
     "output_type": "stream",
     "text": [
      "Size of data (711157, 35)\n"
     ]
    }
   ],
   "source": [
    "# Replace service names to make them more meaningful\n",
    "customers_df.replace(\"LOG_INTELLIGENCE\", \"Data Logging\",inplace=True)\n",
    "customers_df.replace('CloudAssembly', \"Data Package\",inplace=True)\n",
    "print(\"Size of data {}\".format(customers_df.shape))"
   ]
  },
  {
   "cell_type": "code",
   "execution_count": 6,
   "metadata": {},
   "outputs": [
    {
     "data": {
      "text/plain": [
       "Index(['Unnamed: 0', 'EventModDead', 'EventModError', 'EventModFrustrated',\n",
       "       'EventStart', 'EventTargetSelectorTok', 'EventTargetText', 'EventType',\n",
       "       'IndvId', 'PageActiveDuration', 'PageAgent', 'PageBrowser',\n",
       "       'PageDevice', 'PageDuration', 'PageId', 'PageIp', 'PageLatLong',\n",
       "       'PageNumErrors', 'PageNumInfos', 'PageNumWarnings',\n",
       "       'PageOperatingSystem', 'PageRefererUrl', 'PageUrl', 'SessionId',\n",
       "       'UserAppKey', 'UserDisplayName', 'UserEmail', 'UserId',\n",
       "       'user_anonymousId_str', 'user_firstName_str', 'user_lastName_str',\n",
       "       'user_serviceName_str', 'user_userHash_str', 'user_userId_str',\n",
       "       'user_username_str'],\n",
       "      dtype='object')"
      ]
     },
     "execution_count": 6,
     "metadata": {},
     "output_type": "execute_result"
    }
   ],
   "source": [
    "customers_df.columns"
   ]
  },
  {
   "cell_type": "code",
   "execution_count": 7,
   "metadata": {},
   "outputs": [
    {
     "name": "stdout",
     "output_type": "stream",
     "text": [
      "Masking start please wait, it may take a few minutes\n",
      "Masking done\n",
      "Size of data (711157, 35)\n"
     ]
    }
   ],
   "source": [
    "# Masking Some Sensitive URL\n",
    "print(\"Masking start please wait, it may take a few minutes\")\n",
    "customers_df.replace(\"/www.mgmt.cloud.vmware.com/\", \"/www.cloud.dataguru.com/\", inplace=True, regex=True)\n",
    "customers_df.replace(\"vmware\",\"dataguru\", inplace=True,regex=True)\n",
    "customers_df.replace(\"csp\",\"bin\", inplace =True,regex=True)\n",
    "customers_df.replace(\"deployment\",\"dataType\",inplace =True,regex=True)\n",
    "customers_df.replace(\"automation-ui\",\"dataType-UI\",inplace =True,regex=True)\n",
    "customers_df.replace(\"provisioning\",\"data-provision\",inplace =True,regex=True)\n",
    "print(\"Masking done\")\n",
    "print(\"Size of data {}\".format(customers_df.shape))"
   ]
  },
  {
   "cell_type": "code",
   "execution_count": 8,
   "metadata": {},
   "outputs": [
    {
     "data": {
      "text/plain": [
       "Index(['Unnamed: 0', 'EventModDead', 'EventModError', 'EventModFrustrated',\n",
       "       'EventStart', 'EventTargetSelectorTok', 'EventTargetText', 'EventType',\n",
       "       'IndvId', 'PageActiveDuration', 'PageAgent', 'PageBrowser',\n",
       "       'PageDevice', 'PageDuration', 'PageId', 'PageIp', 'PageLatLong',\n",
       "       'PageNumErrors', 'PageNumInfos', 'PageNumWarnings',\n",
       "       'PageOperatingSystem', 'PageRefererUrl', 'PageUrl', 'SessionId',\n",
       "       'UserAppKey', 'UserDisplayName', 'UserEmail', 'UserId',\n",
       "       'user_anonymousId_str', 'user_firstName_str', 'user_lastName_str',\n",
       "       'user_serviceName_str', 'user_userHash_str', 'user_userId_str',\n",
       "       'user_username_str'],\n",
       "      dtype='object')"
      ]
     },
     "execution_count": 8,
     "metadata": {},
     "output_type": "execute_result"
    }
   ],
   "source": [
    "customers_df.columns"
   ]
  },
  {
   "cell_type": "code",
   "execution_count": 9,
   "metadata": {},
   "outputs": [
    {
     "data": {
      "text/plain": [
       "(711157, 35)"
      ]
     },
     "execution_count": 9,
     "metadata": {},
     "output_type": "execute_result"
    }
   ],
   "source": [
    "customers_df.shape"
   ]
  },
  {
   "cell_type": "code",
   "execution_count": 10,
   "metadata": {},
   "outputs": [
    {
     "name": "stdout",
     "output_type": "stream",
     "text": [
      "Adding domain column\n",
      "Shape of exports read from CSV : (711157, 36)\n"
     ]
    }
   ],
   "source": [
    "# Add a column as Domain \n",
    "print('Adding domain column')\n",
    "customers_df['Domain'] = customers_df['UserEmail'].str.split(pat=\"@\", expand=True)[1]\n",
    "print('Shape of exports read from CSV : {}'.format(customers_df.shape))"
   ]
  },
  {
   "cell_type": "code",
   "execution_count": 11,
   "metadata": {},
   "outputs": [
    {
     "name": "stdout",
     "output_type": "stream",
     "text": [
      "Shape of dataframe after dropping internal users : (78291, 36)\n"
     ]
    }
   ],
   "source": [
    "# drop rows that doesn't have an email (invalid data)\n",
    "customers_df = customers_df.dropna(subset=['UserEmail'])\n",
    "\n",
    "# Read the info on emails fron config file \n",
    "dropemails= config.get('Emails', 'dropEmailList')\n",
    "dropemailsList = dropemails.split(\",\")\n",
    "external_customers_df = customers_df[~ customers_df.Domain.isin(dropemailsList)]\n",
    "\n",
    "print('Shape of dataframe after dropping internal users : {}'.format(external_customers_df.shape))"
   ]
  },
  {
   "cell_type": "code",
   "execution_count": 12,
   "metadata": {},
   "outputs": [
    {
     "name": "stdout",
     "output_type": "stream",
     "text": [
      "Shape of dataframe after dropping extra columns: (78291, 15)\n"
     ]
    }
   ],
   "source": [
    "# Dropping unwanted columns \n",
    "external_customers_df = external_customers_df[['Domain','UserAppKey','user_serviceName_str','UserId','IndvId','SessionId',\n",
    "                                       'PageUrl','PageRefererUrl','PageBrowser','PageDevice','PageDuration','PageActiveDuration',\n",
    "                                        'PageLatLong',\n",
    "                                       'EventStart','EventType']]\n",
    "print('Shape of dataframe after dropping extra columns: {}'.format(external_customers_df.shape))  "
   ]
  },
  {
   "cell_type": "code",
   "execution_count": 13,
   "metadata": {},
   "outputs": [
    {
     "data": {
      "text/plain": [
       "Index(['Domain', 'UserEmail', 'serviceName', 'UserId', 'IndvId', 'SessionId',\n",
       "       'PageUrl', 'PageRefererUrl', 'PageBrowser', 'PageDevice',\n",
       "       'PageDuration', 'PageActiveDuration', 'PageLatLong', 'EventStart',\n",
       "       'EventType'],\n",
       "      dtype='object')"
      ]
     },
     "execution_count": 13,
     "metadata": {},
     "output_type": "execute_result"
    }
   ],
   "source": [
    "# Renaming columns\n",
    "external_customers_df.rename(columns={'UserAppKey':'UserEmail','user_serviceName_str':'serviceName'},inplace = True)\n",
    "external_customers_df.columns"
   ]
  },
  {
   "cell_type": "code",
   "execution_count": 14,
   "metadata": {},
   "outputs": [
    {
     "data": {
      "text/plain": [
       "['Data Logging', 'SDK', 'Data Package']"
      ]
     },
     "execution_count": 14,
     "metadata": {},
     "output_type": "execute_result"
    }
   ],
   "source": [
    "# Printing list of unique services we have collected data for \n",
    "list(external_customers_df.serviceName.unique())"
   ]
  },
  {
   "cell_type": "code",
   "execution_count": 15,
   "metadata": {},
   "outputs": [
    {
     "name": "stdout",
     "output_type": "stream",
     "text": [
      "Masking done\n"
     ]
    }
   ],
   "source": [
    "# Masking Company Names \n",
    "domainList  = list(external_customers_df.Domain.unique())\n",
    "counter = 1\n",
    "for domain in domainList  :\n",
    "    newDomain = \"Company\" + str(counter)+\".com\"\n",
    "#     print(newDomain)\n",
    "    external_customers_df.replace(domain,newDomain,inplace =True,regex=True)\n",
    "    counter=counter +1  \n",
    "\n",
    "print(\"Masking done\")"
   ]
  },
  {
   "cell_type": "code",
   "execution_count": 16,
   "metadata": {},
   "outputs": [
    {
     "name": "stdout",
     "output_type": "stream",
     "text": [
      "Number of columns before :36\n",
      "Number of columns after :35\n"
     ]
    }
   ],
   "source": [
    "## Data Cleaning and filtering \n",
    "#dropping an Column not needed \n",
    "print('Number of columns before :{}'.format(len(customers_df.columns)))\n",
    "customers_df.drop('Unnamed: 0', axis=1, inplace=True)\n",
    "print('Number of columns after :{}'.format(len(customers_df.columns)))"
   ]
  },
  {
   "cell_type": "code",
   "execution_count": 17,
   "metadata": {},
   "outputs": [
    {
     "data": {
      "text/plain": [
       "Index(['EventModDead', 'EventModError', 'EventModFrustrated', 'EventStart',\n",
       "       'EventTargetSelectorTok', 'EventTargetText', 'EventType', 'IndvId',\n",
       "       'PageActiveDuration', 'PageAgent', 'PageBrowser', 'PageDevice',\n",
       "       'PageDuration', 'PageId', 'PageIp', 'PageLatLong', 'PageNumErrors',\n",
       "       'PageNumInfos', 'PageNumWarnings', 'PageOperatingSystem',\n",
       "       'PageRefererUrl', 'PageUrl', 'SessionId', 'UserAppKey',\n",
       "       'UserDisplayName', 'UserEmail', 'UserId', 'user_anonymousId_str',\n",
       "       'user_firstName_str', 'user_lastName_str', 'user_serviceName_str',\n",
       "       'user_userHash_str', 'user_userId_str', 'user_username_str', 'Domain'],\n",
       "      dtype='object')"
      ]
     },
     "execution_count": 17,
     "metadata": {},
     "output_type": "execute_result"
    }
   ],
   "source": [
    "customers_df.columns"
   ]
  },
  {
   "cell_type": "code",
   "execution_count": 20,
   "metadata": {},
   "outputs": [
    {
     "name": "stdout",
     "output_type": "stream",
     "text": [
      "external Customer data Successfully written to external_customers.csv \n"
     ]
    }
   ],
   "source": [
    "# Writing clean data to CSV\n",
    "external_customers_df.to_csv(\"data/external_customers.csv\", index=False)\n",
    "print(\"external Customer data Successfully written to external_customers.csv \")"
   ]
  },
  {
   "cell_type": "code",
   "execution_count": null,
   "metadata": {},
   "outputs": [],
   "source": []
  }
 ],
 "metadata": {
  "kernelspec": {
   "display_name": "Python 3",
   "language": "python",
   "name": "python3"
  },
  "language_info": {
   "codemirror_mode": {
    "name": "ipython",
    "version": 3
   },
   "file_extension": ".py",
   "mimetype": "text/x-python",
   "name": "python",
   "nbconvert_exporter": "python",
   "pygments_lexer": "ipython3",
   "version": "3.6.7"
  }
 },
 "nbformat": 4,
 "nbformat_minor": 2
}
