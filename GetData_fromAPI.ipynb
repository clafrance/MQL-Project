{
 "cells": [
  {
   "cell_type": "code",
   "execution_count": 1,
   "metadata": {
    "collapsed": true
   },
   "outputs": [],
   "source": [
    "\n",
    "### import all the dependencies \n",
    "import requests\n",
    "import csv\n",
    "import json\n",
    "import pandas as pd\n",
    "import requests, json\n",
    "import re\n",
    "import configparser\n",
    "import time \n",
    "import logging\n",
    "import os\n"
   ]
  },
  {
   "cell_type": "code",
   "execution_count": 2,
   "metadata": {
    "collapsed": true
   },
   "outputs": [],
   "source": [
    "## Define all variables \n",
    "configFile = \"config.cfg\"\n",
    "config = configparser.ConfigParser()\n",
    "config.read(configFile)\n",
    "\n",
    "TOKEN= config.get('FullStory', 'Token')\n",
    "\n",
    "\n",
    "HEADERS = {'Authorization': 'Basic {}'.format(TOKEN)}\n",
    "START_DATE1 = 1536364800 # 2018-09-07 17:00:00\n",
    "START_DATE2 = 1538161320 # 2018-09-27 17:02:00\n",
    "LIST_REQUEST_URL = 'https://export.fullstory.com/api/v1/export/list?start={}'\n",
    "GET_REQUEST_URL = 'https://export.fullstory.com/api/v1/export/get?id={}'\n",
    "LOG_FILE = 'fs_api_run.log'"
   ]
  },
  {
   "cell_type": "code",
   "execution_count": 3,
   "metadata": {
    "collapsed": true
   },
   "outputs": [],
   "source": [
    "##Setting up logger \n",
    "logger = logging.getLogger(__name__)\n",
    "logger.setLevel(logging.INFO)\n",
    "\n",
    "# create a file handler\n",
    "handler = logging.FileHandler(LOG_FILE)\n",
    "handler.setLevel(logging.INFO)\n",
    "\n",
    "# create a logging format\n",
    "formatter = logging.Formatter('%(asctime)s - %(name)s - %(levelname)s - %(message)s')\n",
    "handler.setFormatter(formatter)\n",
    "\n",
    "# add the handlers to the logger\n",
    "logger.addHandler(handler)\n"
   ]
  },
  {
   "cell_type": "code",
   "execution_count": 4,
   "metadata": {
    "collapsed": true
   },
   "outputs": [],
   "source": [
    "##Function to get the list of export bundles after given date \n",
    "def get_exportData(start_date):\n",
    "    '''the function obtain List of data export\n",
    "    from the target date onwards.'''\n",
    "    exports_data = []\n",
    "   # HEADERS = {'Authorization': 'Basic {}'.format(TOKEN)}\n",
    "    with requests.session() as session:\n",
    "        session.headers.update(HEADERS)\n",
    "        # Getting the list of data exports from fullstory\n",
    "        logger.info('Getting the exports list from fullstory')\n",
    "        exports_list_response = session.get(LIST_REQUEST_URL.format(start_date))\n",
    "        status_code = exports_list_response.status_code\n",
    "   \n",
    "        # Check status code\n",
    "        if status_code == 200:\n",
    "            print('List API call has been successful.')\n",
    "            logger.info('List API call has been successful.')\n",
    "            export_list_json = exports_list_response.json()\n",
    "            # print(output)\n",
    "        else:\n",
    "            print('List API call unsuccessful with status code:\\\n",
    "             {}'.format(status_code))\n",
    "            logger.exception('List API call unsuccessful with status code:\\\n",
    "             {}'.format(status_code))\n",
    "        #print(export_list_json)\n",
    "\n",
    "        exports = export_list_json[\"exports\"] \n",
    "        print(exports)\n",
    "        # Downloading the exports from fullstory\n",
    "        print(\"Starting downlaod of the Fullstory data exports\")\n",
    "        logger.info(\"Starting downlaod of the Fullstory data exports\")\n",
    "        counter = 1\n",
    "        for export in exports:\n",
    "            print(\"Starting download for the bundle {}\".format(counter))\n",
    "            logger.info(\"Starting download for the bundle {}\".format(counter))\n",
    "            export_data = session.get(GET_REQUEST_URL.format(str(export['Id']))).json()\n",
    "            counter = counter + 1\n",
    "            print(counter)\n",
    "            exports_data = exports_data + export_data\n",
    "        print(\"Downloaded {} dumps with {} total records\".format(counter, len(exports_data)))\n",
    "        logger.info(\"Downloaded {} dumps with {} total records\".format(counter, len(exports_data)))\n",
    "\n",
    "\n",
    "\n",
    "    return exports_data\n",
    "\n",
    "    "
   ]
  },
  {
   "cell_type": "code",
   "execution_count": 5,
   "metadata": {},
   "outputs": [
    {
     "name": "stdout",
     "output_type": "stream",
     "text": [
      "List API call has been successful.\n",
      "[{'Start': 1536364800, 'Stop': 1536451200, 'Id': 153636480048}, {'Start': 1536451200, 'Stop': 1536537600, 'Id': 153645120048}, {'Start': 1536537600, 'Stop': 1536624000, 'Id': 153653760048}, {'Start': 1536624000, 'Stop': 1536710400, 'Id': 153662400048}, {'Start': 1536710400, 'Stop': 1536796800, 'Id': 153671040048}, {'Start': 1536796800, 'Stop': 1536883200, 'Id': 153679680048}, {'Start': 1536883200, 'Stop': 1536969600, 'Id': 153688320048}, {'Start': 1536969600, 'Stop': 1537056000, 'Id': 153696960048}, {'Start': 1537056000, 'Stop': 1537142400, 'Id': 153705600048}, {'Start': 1537142400, 'Stop': 1537228800, 'Id': 153714240048}, {'Start': 1537228800, 'Stop': 1537315200, 'Id': 153722880048}, {'Start': 1537315200, 'Stop': 1537401600, 'Id': 153731520048}, {'Start': 1537401600, 'Stop': 1537488000, 'Id': 153740160048}, {'Start': 1537488000, 'Stop': 1537574400, 'Id': 153748800048}, {'Start': 1537574400, 'Stop': 1537660800, 'Id': 153757440048}, {'Start': 1537660800, 'Stop': 1537747200, 'Id': 153766080048}, {'Start': 1537747200, 'Stop': 1537833600, 'Id': 153774720048}, {'Start': 1537833600, 'Stop': 1537920000, 'Id': 153783360048}, {'Start': 1537920000, 'Stop': 1538006400, 'Id': 153792000048}, {'Start': 1538006400, 'Stop': 1538092800, 'Id': 153800640048}]\n",
      "Starting downlaod of the Fullstory data exports\n",
      "Starting download for the bundle 1\n",
      "2\n",
      "Starting download for the bundle 2\n",
      "3\n",
      "Starting download for the bundle 3\n",
      "4\n",
      "Starting download for the bundle 4\n",
      "5\n",
      "Starting download for the bundle 5\n",
      "6\n",
      "Starting download for the bundle 6\n",
      "7\n",
      "Starting download for the bundle 7\n",
      "8\n",
      "Starting download for the bundle 8\n",
      "9\n",
      "Starting download for the bundle 9\n",
      "10\n",
      "Starting download for the bundle 10\n",
      "11\n",
      "Starting download for the bundle 11\n",
      "12\n",
      "Starting download for the bundle 12\n",
      "13\n",
      "Starting download for the bundle 13\n",
      "14\n",
      "Starting download for the bundle 14\n",
      "15\n",
      "Starting download for the bundle 15\n",
      "16\n",
      "Starting download for the bundle 16\n",
      "17\n",
      "Starting download for the bundle 17\n",
      "18\n",
      "Starting download for the bundle 18\n",
      "19\n",
      "Starting download for the bundle 19\n",
      "20\n",
      "Starting download for the bundle 20\n",
      "21\n",
      "Downloaded 21 dumps with 527535 total records\n",
      "List API call has been successful.\n",
      "[{'Start': 1538092800, 'Stop': 1538179200, 'Id': 153809280048}, {'Start': 1538179200, 'Stop': 1538265600, 'Id': 153817920048}, {'Start': 1538265600, 'Stop': 1538352000, 'Id': 153826560048}, {'Start': 1538352000, 'Stop': 1538438400, 'Id': 153835200048}, {'Start': 1538438400, 'Stop': 1538524800, 'Id': 153843840048}, {'Start': 1538524800, 'Stop': 1538611200, 'Id': 153852480048}, {'Start': 1538611200, 'Stop': 1538697600, 'Id': 153861120048}, {'Start': 1538697600, 'Stop': 1538784000, 'Id': 153869760048}, {'Start': 1538784000, 'Stop': 1538870400, 'Id': 153878400048}, {'Start': 1538870400, 'Stop': 1538956800, 'Id': 153887040048}]\n",
      "Starting downlaod of the Fullstory data exports\n",
      "Starting download for the bundle 1\n",
      "2\n",
      "Starting download for the bundle 2\n",
      "3\n",
      "Starting download for the bundle 3\n",
      "4\n",
      "Starting download for the bundle 4\n",
      "5\n",
      "Starting download for the bundle 5\n",
      "6\n",
      "Starting download for the bundle 6\n",
      "7\n",
      "Starting download for the bundle 7\n",
      "8\n",
      "Starting download for the bundle 8\n",
      "9\n",
      "Starting download for the bundle 9\n",
      "10\n",
      "Starting download for the bundle 10\n",
      "11\n",
      "Downloaded 11 dumps with 227991 total records\n"
     ]
    }
   ],
   "source": [
    "logger.info (\"The Main run start to download all export bundles .\")\n",
    "exports1  = get_exportData(START_DATE1)\n",
    "exports2 = get_exportData(START_DATE2)\n"
   ]
  },
  {
   "cell_type": "code",
   "execution_count": 6,
   "metadata": {},
   "outputs": [
    {
     "name": "stdout",
     "output_type": "stream",
     "text": [
      "Dataset from API is very large This cell may take a 1-2 minutes to run\n",
      "Shape of first export dataframe: (527535, 34)\n",
      "Shape of second export dataframe: (227991, 38)\n"
     ]
    }
   ],
   "source": [
    "# Loading the exports data to Pandas DataFrames for further processing \n",
    "print(\"Dataset from API is very large This cell may take a 1-2 minutes to run\")\n",
    "exports_df1 = pd.DataFrame(exports1)\n",
    "print('Shape of first export dataframe: {}'.format(exports_df1.shape))\n",
    "logger.info('Shape of first export dataframe: {}'.format(exports_df1.shape))\n",
    "\n",
    "exports_df2 = pd.DataFrame(exports2)\n",
    "print('Shape of second export dataframe: {}'.format(exports_df2.shape))\n",
    "logger.info('Shape of second export dataframe: {}'.format(exports_df2.shape))"
   ]
  },
  {
   "cell_type": "code",
   "execution_count": 7,
   "metadata": {},
   "outputs": [
    {
     "name": "stdout",
     "output_type": "stream",
     "text": [
      "Shape of All Combined exports df : (755526, 34)\n"
     ]
    }
   ],
   "source": [
    "##Merging 2 dataframes \n",
    "combined_exports_df = pd.concat([exports_df1,exports_df2], join='inner')\n",
    "print('Shape of All Combined exports df : {}'.format(combined_exports_df.shape))"
   ]
  },
  {
   "cell_type": "code",
   "execution_count": 8,
   "metadata": {},
   "outputs": [
    {
     "data": {
      "text/plain": [
       "Index(['EventModDead', 'EventModError', 'EventModFrustrated', 'EventStart',\n",
       "       'EventTargetSelectorTok', 'EventTargetText', 'EventType', 'IndvId',\n",
       "       'PageActiveDuration', 'PageAgent', 'PageBrowser', 'PageDevice',\n",
       "       'PageDuration', 'PageId', 'PageIp', 'PageLatLong', 'PageNumErrors',\n",
       "       'PageNumInfos', 'PageNumWarnings', 'PageOperatingSystem',\n",
       "       'PageRefererUrl', 'PageUrl', 'SessionId', 'UserAppKey',\n",
       "       'UserDisplayName', 'UserEmail', 'UserId', 'user_anonymousId_str',\n",
       "       'user_firstName_str', 'user_lastName_str', 'user_serviceName_str',\n",
       "       'user_userHash_str', 'user_userId_str', 'user_username_str'],\n",
       "      dtype='object')"
      ]
     },
     "execution_count": 8,
     "metadata": {},
     "output_type": "execute_result"
    }
   ],
   "source": [
    "combined_exports_df.columns"
   ]
  },
  {
   "cell_type": "code",
   "execution_count": 10,
   "metadata": {
    "collapsed": true
   },
   "outputs": [],
   "source": [
    "# # create data directory if needed\n",
    "if not os.path.isdir('../data'):\n",
    "    os.makedirs('../data')"
   ]
  },
  {
   "cell_type": "code",
   "execution_count": 11,
   "metadata": {},
   "outputs": [
    {
     "name": "stdout",
     "output_type": "stream",
     "text": [
      "Data Successfully loaded to local CSV\n"
     ]
    }
   ],
   "source": [
    "## Writing the dataframe to CSV file to avoid API call before every program run \n",
    "filepath = \"../data/Combined_data.csv\"\n",
    "print(\"Start writing the export_df to localCSV\")\n",
    "logger.info(\"Start writing the export_df to localCSV\")\n",
    "combined_exports_df.to_csv(filepath)\n",
    "print(\"Data Successfully loaded to local CSV\")\n",
    "logger.info(\"Data Successfully loaded to local CSV\")"
   ]
  },
  {
   "cell_type": "code",
   "execution_count": null,
   "metadata": {
    "collapsed": true
   },
   "outputs": [],
   "source": []
  }
 ],
 "metadata": {
  "kernelspec": {
   "display_name": "Python 3",
   "language": "python",
   "name": "python3"
  },
  "language_info": {
   "codemirror_mode": {
    "name": "ipython",
    "version": 3
   },
   "file_extension": ".py",
   "mimetype": "text/x-python",
   "name": "python",
   "nbconvert_exporter": "python",
   "pygments_lexer": "ipython3",
   "version": "3.6.3"
  }
 },
 "nbformat": 4,
 "nbformat_minor": 2
}
