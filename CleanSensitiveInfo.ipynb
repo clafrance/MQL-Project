{
 "cells": [
  {
   "cell_type": "code",
   "execution_count": 4,
   "metadata": {
    "collapsed": true
   },
   "outputs": [],
   "source": [
    "### import all the dependencies \n",
    "import requests\n",
    "import csv\n",
    "import json\n",
    "import pandas as pd\n",
    "import requests, json\n",
    "import re\n",
    "import configparser\n",
    "import warnings\n",
    "warnings.filterwarnings('ignore')"
   ]
  },
  {
   "cell_type": "code",
   "execution_count": 5,
   "metadata": {},
   "outputs": [
    {
     "data": {
      "text/plain": [
       "['config.cfg']"
      ]
     },
     "execution_count": 5,
     "metadata": {},
     "output_type": "execute_result"
    }
   ],
   "source": [
    "## Define all variables \n",
    "configFile = \"config.cfg\"\n",
    "config = configparser.ConfigParser()\n",
    "config.read(configFile)\n"
   ]
  },
  {
   "cell_type": "code",
   "execution_count": 6,
   "metadata": {},
   "outputs": [
    {
     "name": "stdout",
     "output_type": "stream",
     "text": [
      "Reading all the combined data , may take a few minutes\n",
      "Shape of exports read from CSV : (755526, 35)\n"
     ]
    },
    {
     "data": {
      "text/plain": [
       "Index(['Unnamed: 0', 'EventModDead', 'EventModError', 'EventModFrustrated',\n",
       "       'EventStart', 'EventTargetSelectorTok', 'EventTargetText', 'EventType',\n",
       "       'IndvId', 'PageActiveDuration', 'PageAgent', 'PageBrowser',\n",
       "       'PageDevice', 'PageDuration', 'PageId', 'PageIp', 'PageLatLong',\n",
       "       'PageNumErrors', 'PageNumInfos', 'PageNumWarnings',\n",
       "       'PageOperatingSystem', 'PageRefererUrl', 'PageUrl', 'SessionId',\n",
       "       'UserAppKey', 'UserDisplayName', 'UserEmail', 'UserId',\n",
       "       'user_anonymousId_str', 'user_firstName_str', 'user_lastName_str',\n",
       "       'user_serviceName_str', 'user_userHash_str', 'user_userId_str',\n",
       "       'user_username_str'],\n",
       "      dtype='object')"
      ]
     },
     "execution_count": 6,
     "metadata": {},
     "output_type": "execute_result"
    }
   ],
   "source": [
    "print(\"Reading all the combined data , may take a few minutes\")\n",
    "customers_df = pd.read_csv(\"../data/Combined_data.csv\", low_memory=False)\n",
    "print('Shape of exports read from CSV : {}'.format(customers_df.shape))\n",
    "customers_df.columns"
   ]
  },
  {
   "cell_type": "code",
   "execution_count": 7,
   "metadata": {},
   "outputs": [
    {
     "name": "stdout",
     "output_type": "stream",
     "text": [
      "Size of data before dropping servcies (755526, 35)\n",
      "Size of data after  dropping servcies (713074, 35) \n"
     ]
    }
   ],
   "source": [
    "## Dropping rows with extra services we dont care they were part of some POC \n",
    "##servciesName = list(customers_data.user_serviceName_str.unique())\n",
    "print(\"Size of data before dropping servcies {}\".format(customers_df.shape))\n",
    "service_picked= ['LOG_INTELLIGENCE','CloudAssembly','SDK']\n",
    "customers_df = customers_df[customers_df.user_serviceName_str.isin(service_picked)]\n",
    "print(\"Size of data after  dropping servcies {} \".format(customers_df.shape))"
   ]
  },
  {
   "cell_type": "code",
   "execution_count": 8,
   "metadata": {},
   "outputs": [
    {
     "name": "stdout",
     "output_type": "stream",
     "text": [
      "Size of data (713074, 35)\n"
     ]
    }
   ],
   "source": [
    "## REPLACING SERVICES NAMES to make them more meaning full\n",
    "customers_df.replace(\"LOG_INTELLIGENCE\",\"Data Logging\",inplace =True)\n",
    "customers_df.replace('CloudAssembly',\"Data Package\",inplace =True)\n",
    "print(\"Size of data {}\".format(customers_df.shape))\n"
   ]
  },
  {
   "cell_type": "code",
   "execution_count": 9,
   "metadata": {},
   "outputs": [
    {
     "data": {
      "text/plain": [
       "Index(['Unnamed: 0', 'EventModDead', 'EventModError', 'EventModFrustrated',\n",
       "       'EventStart', 'EventTargetSelectorTok', 'EventTargetText', 'EventType',\n",
       "       'IndvId', 'PageActiveDuration', 'PageAgent', 'PageBrowser',\n",
       "       'PageDevice', 'PageDuration', 'PageId', 'PageIp', 'PageLatLong',\n",
       "       'PageNumErrors', 'PageNumInfos', 'PageNumWarnings',\n",
       "       'PageOperatingSystem', 'PageRefererUrl', 'PageUrl', 'SessionId',\n",
       "       'UserAppKey', 'UserDisplayName', 'UserEmail', 'UserId',\n",
       "       'user_anonymousId_str', 'user_firstName_str', 'user_lastName_str',\n",
       "       'user_serviceName_str', 'user_userHash_str', 'user_userId_str',\n",
       "       'user_username_str'],\n",
       "      dtype='object')"
      ]
     },
     "execution_count": 9,
     "metadata": {},
     "output_type": "execute_result"
    }
   ],
   "source": [
    "customers_df.columns"
   ]
  },
  {
   "cell_type": "code",
   "execution_count": 10,
   "metadata": {},
   "outputs": [
    {
     "name": "stdout",
     "output_type": "stream",
     "text": [
      "Masking start please wait, it may take a few minutes\n",
      "Masking done\n",
      "Size of data (713074, 35)\n"
     ]
    }
   ],
   "source": [
    "#Masking Some Sensitive URL\n",
    "print(\"Masking start please wait, it may take a few minutes\")\n",
    "customers_df.replace(\"/www.mgmt.cloud.vmware.com/\",\"/www.cloud.dataguru.com/\",inplace =True,regex=True)\n",
    "customers_df.replace(\"vmware\",\"dataguru\",inplace =True,regex=True)\n",
    "customers_df.replace(\"csp\",\"bin\",inplace =True,regex=True)\n",
    "customers_df.replace(\"deployment\",\"dataType\",inplace =True,regex=True)\n",
    "customers_df.replace(\"automation-ui\",\"dataType-UI\",inplace =True,regex=True)\n",
    "customers_df.replace(\"provisioning\",\"data-provision\",inplace =True,regex=True)\n",
    "print(\"Masking done\")\n",
    "print(\"Size of data {}\".format(customers_df.shape))"
   ]
  },
  {
   "cell_type": "code",
   "execution_count": 11,
   "metadata": {},
   "outputs": [
    {
     "name": "stdout",
     "output_type": "stream",
     "text": [
      "number of columns  before :35\n",
      "number of columns  After :34\n"
     ]
    }
   ],
   "source": [
    "## Data Cleaning and filtering \n",
    "#dropping an Column not needed \n",
    "print('number of columns  before :{}'.format(len(customers_df.columns)))\n",
    "customers_df.drop('Unnamed: 0', axis=1, inplace=True)\n",
    "print('number of columns  After :{}'.format(len(customers_df.columns)))\n"
   ]
  },
  {
   "cell_type": "code",
   "execution_count": 12,
   "metadata": {},
   "outputs": [
    {
     "data": {
      "text/plain": [
       "(713074, 34)"
      ]
     },
     "execution_count": 12,
     "metadata": {},
     "output_type": "execute_result"
    }
   ],
   "source": [
    "customers_df.shape"
   ]
  },
  {
   "cell_type": "code",
   "execution_count": 13,
   "metadata": {},
   "outputs": [
    {
     "name": "stdout",
     "output_type": "stream",
     "text": [
      "writing to CSV started\n",
      "Main Customer data  Successfully written to ../data/Main_customers.csv \n"
     ]
    }
   ],
   "source": [
    "##Writing cleansed data so that team can pick it  up \n",
    "print(\"writing to CSV started\")\n",
    "customers_df.to_csv(\"../data/Main_customers.csv\")\n",
    "print(\"Main Customer data  Successfully written to ../data/Main_customers.csv \")"
   ]
  },
  {
   "cell_type": "code",
   "execution_count": null,
   "metadata": {
    "collapsed": true
   },
   "outputs": [],
   "source": []
  }
 ],
 "metadata": {
  "kernelspec": {
   "display_name": "Python 3",
   "language": "python",
   "name": "python3"
  },
  "language_info": {
   "codemirror_mode": {
    "name": "ipython",
    "version": 3
   },
   "file_extension": ".py",
   "mimetype": "text/x-python",
   "name": "python",
   "nbconvert_exporter": "python",
   "pygments_lexer": "ipython3",
   "version": "3.6.3"
  }
 },
 "nbformat": 4,
 "nbformat_minor": 2
}
